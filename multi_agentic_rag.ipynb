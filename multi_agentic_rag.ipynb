{
 "cells": [
  {
   "cell_type": "markdown",
   "metadata": {},
   "source": [
    "# Initial Setup"
   ]
  },
  {
   "cell_type": "code",
   "execution_count": 1,
   "metadata": {},
   "outputs": [
    {
     "name": "stderr",
     "output_type": "stream",
     "text": [
      "d:\\conda_envs\\rag\\lib\\site-packages\\tqdm\\auto.py:21: TqdmWarning: IProgress not found. Please update jupyter and ipywidgets. See https://ipywidgets.readthedocs.io/en/stable/user_install.html\n",
      "  from .autonotebook import tqdm as notebook_tqdm\n"
     ]
    }
   ],
   "source": [
    "import os\n",
    "from typing import List,Optional\n",
    "\n",
    "# llama index imports\n",
    "from llama_index.core import SimpleDirectoryReader,VectorStoreIndex,SummaryIndex, StorageContext, Settings, load_index_from_storage\n",
    "from llama_index.vector_stores.chroma import ChromaVectorStore\n",
    "from llama_index.core.node_parser import SentenceSplitter\n",
    "from llama_index.core.tools import FunctionTool,QueryEngineTool\n",
    "from llama_index.core.vector_stores import MetadataFilters,FilterCondition\n",
    "from llama_index.core.objects import ObjectIndex\n",
    "\n",
    "# llama index agent imports\n",
    "from llama_index.core.agent import FunctionCallingAgentWorker\n",
    "from llama_index.core.agent import AgentRunner\n",
    "\n",
    "# llama index llms and embeddings imports\n",
    "from llama_index.llms.mistralai import MistralAI\n",
    "from llama_index.embeddings.fastembed import FastEmbedEmbedding\n",
    "\n",
    "# tools\n",
    "import nest_asyncio # to allow running async functions in jupyter\n",
    "import chromadb # persistent storage for vectors\n"
   ]
  },
  {
   "cell_type": "code",
   "execution_count": 2,
   "metadata": {},
   "outputs": [
    {
     "name": "stderr",
     "output_type": "stream",
     "text": [
      "Fetching 5 files: 100%|██████████| 5/5 [00:00<?, ?it/s]\n"
     ]
    }
   ],
   "source": [
    "nest_asyncio.apply() # to allow running async functions in jupyter\n",
    "\n",
    "# setting flags\n",
    "create_index = False\n",
    "\n",
    "# configuration\n",
    "MISTRAL_API_KEY =  \"BWdlihu9sUh5P2g3bHnzjAaHiT4anTVH\"\n",
    "embedding = \"BAAI/bge-small-en-v1.5\"\n",
    "llm_model = \"mistral-large-latest\"\n",
    "chunk_size = 1024\n",
    "chunk_overlap = 128\n",
    "data_path = \"./data\"\n",
    "\n",
    "# setup the llm and embedding\n",
    "embed_model = FastEmbedEmbedding(model_name=embedding)\n",
    "Settings.embed_model = embed_model\n",
    "Settings.chunk_size = chunk_size\n",
    "Settings.chunk_overlap = chunk_overlap\n",
    "os.environ[\"MISTRAL_API_KEY\"] = MISTRAL_API_KEY\n",
    "llm = MistralAI(model=llm_model)\n",
    "Settings.llm = llm\n",
    "\n",
    "# setup the persistent storage for vector store\n",
    "db = chromadb.PersistentClient(path=\"./chroma_db_mistral\")\n",
    "chroma_collection = db.get_or_create_collection(\"multidocument-agent\")\n",
    "vector_store = ChromaVectorStore(chroma_collection=chroma_collection)\n",
    "storage_context = StorageContext.from_defaults(vector_store=vector_store)"
   ]
  },
  {
   "cell_type": "markdown",
   "metadata": {},
   "source": [
    "# Utility functions"
   ]
  },
  {
   "cell_type": "code",
   "execution_count": 3,
   "metadata": {},
   "outputs": [],
   "source": [
    "# function for setting vector and summary tool\n",
    "def get_doc_tools(file_path:str, name:str) -> str:\n",
    "  \"\"\"Get vector query and summary query tools from a document.\"\"\"\n",
    "  \n",
    "  #load documents\n",
    "  documents = SimpleDirectoryReader(input_files = [file_path]).load_data()\n",
    "  print(f\"length of nodes\")\n",
    "  splitter = SentenceSplitter(chunk_size=chunk_size,chunk_overlap=chunk_overlap)\n",
    "  nodes = splitter.get_nodes_from_documents(documents)\n",
    "  print(f\"Length of nodes : {len(nodes)}\")\n",
    "  \n",
    "  #instantiate Vectorstore\n",
    "  vector_index = VectorStoreIndex(nodes,storage_context=storage_context)\n",
    "  vector_index.storage_context.vector_store.persist(persist_path=\"/content/chroma_db\")\n",
    "  \n",
    "  # Define Vectorstore Autoretrieval tool\n",
    "  def vector_query(query:str, page_numbers:Optional[List[str]] = None) -> str:\n",
    "    \"\"\"\n",
    "    query (str): the string query to be embedded\n",
    "    page_numbers Optional[List[str]]: List of page numbers to be retrieved.\n",
    "    Leave as NONE if we want to perform a vector search over all pages. \n",
    "    Otherwise, filter by the set of specified pages.\n",
    "    Always leave page_numbers as None UNLESS there is a specific page you want to search for.\n",
    "    \"\"\"\n",
    "    page_numbers = page_numbers or []\n",
    "    metadata_dict = [{\"key\":'page_label', \"value\":p} for p in page_numbers]\n",
    "    \n",
    "    query_engine = vector_index.as_query_engine(similarity_top_k =2, filters = MetadataFilters.from_dicts(metadata_dict, condition=FilterCondition.OR))\n",
    "    \n",
    "    response = query_engine.query(query)\n",
    "    return response\n",
    "  \n",
    "  #llamiondex FunctionTool wraps any python function we feed it\n",
    "  vector_query_tool = FunctionTool.from_defaults(name=f\"vector_tool_{name}\", fn=vector_query)\n",
    "  \n",
    "  # Prepare Summary Tool\n",
    "  summary_index = SummaryIndex(nodes)\n",
    "  # summary_index.storage_context.vector_store.persist(persist_path=\"/content/chroma_db\")\n",
    "  summary_index.storage_context.persist(persist_dir=\"./db_mistral\")\n",
    "  summary_query_engine = summary_index.as_query_engine(response_mode=\"tree_summarize\", use_async=True)\n",
    "  summary_query_tool = QueryEngineTool.from_defaults(name=f\"summary_tool_{name}\",query_engine=summary_query_engine, description=(\"Use ONLY IF you want to get a holistic summary of the documents.\" \"DO NOT USE if you have specified questions over the documents.\"))\n",
    "  return vector_query_tool,summary_query_tool\n"
   ]
  },
  {
   "cell_type": "code",
   "execution_count": 4,
   "metadata": {},
   "outputs": [],
   "source": [
    "def get_doc_tools_from_storage(file_path:str, name:str) -> str:\n",
    "  \"\"\"Get vector query and summary query tools from a document.\"\"\"\n",
    "  \n",
    "  #load vector store\n",
    "  vector_index = VectorStoreIndex.from_vector_store(vector_store=vector_store, storage_context=storage_context)\n",
    "  \n",
    "  # Define Vectorstore Autoretrieval tool\n",
    "  def vector_query(query:str, page_numbers:Optional[List[str]] = None) -> str:\n",
    "    \"\"\"\n",
    "    query (str): the string query to be embedded\n",
    "    page_numbers Optional[List[str]]: List of page numbers to be retrieved.\n",
    "    Leave as NONE if we want to perform a vector search over all pages. \n",
    "    Otherwise, filter by the set of specified pages.\n",
    "    Always leave page_numbers as None UNLESS there is a specific page you want to search for.\n",
    "    \"\"\"\n",
    "    page_numbers = page_numbers or []\n",
    "    metadata_dict = [{\"key\":'page_label', \"value\":p} for p in page_numbers]\n",
    "    \n",
    "    query_engine = vector_index.as_query_engine(similarity_top_k =2, filters = MetadataFilters.from_dicts(metadata_dict, condition=FilterCondition.OR))\n",
    "    \n",
    "    response = query_engine.query(query)\n",
    "    return response\n",
    "  \n",
    "  #llamiondex FunctionTool wraps any python function we feed it\n",
    "  vector_query_tool = FunctionTool.from_defaults(name=f\"vector_tool_{name}\", fn=vector_query)\n",
    "  \n",
    "  # Prepare Summary Tool\n",
    "  # summary_index = SummaryIndex(nodes)\n",
    "  storage_context_all = StorageContext.from_defaults(persist_dir=\"./db_mistral\")\n",
    "  summary_index = load_index_from_storage(storage_context=storage_context_all)\n",
    "  summary_query_engine = summary_index.as_query_engine(response_mode=\"tree_summarize\", use_async=True)\n",
    "  summary_query_tool = QueryEngineTool.from_defaults(name=f\"summary_tool_{name}\",query_engine=summary_query_engine, description=(\"Use ONLY IF you want to get a holistic summary of the documents.\" \"DO NOT USE if you have specified questions over the documents.\"))\n",
    "  return vector_query_tool,summary_query_tool"
   ]
  },
  {
   "cell_type": "code",
   "execution_count": 5,
   "metadata": {},
   "outputs": [],
   "source": [
    "def get_doc_tools_from_path(path:str) -> list:\n",
    "  file_name = []\n",
    "  file_path = []\n",
    "  for file in os.listdir(path):\n",
    "    if file.endswith(\".pdf\"):\n",
    "      file_name.append(file.split(\".\")[0])\n",
    "      file_path.append(os.path.join(path,file))\n",
    "\n",
    "  papers_to_tools_dict = {}\n",
    "  for name,filename in zip(file_name,file_path):\n",
    "    if create_index:\n",
    "      vector_query_tool,summary_query_tool = get_doc_tools(filename,name)\n",
    "    else:\n",
    "      vector_query_tool,summary_query_tool = get_doc_tools_from_storage(filename,name)\n",
    "    papers_to_tools_dict[name] = [vector_query_tool,summary_query_tool]\n",
    "\n",
    "  initial_tools = [t for f in file_name for t in papers_to_tools_dict[f]]\n",
    "  return initial_tools"
   ]
  },
  {
   "cell_type": "markdown",
   "metadata": {},
   "source": [
    "# Agent Setup"
   ]
  },
  {
   "cell_type": "code",
   "execution_count": 6,
   "metadata": {},
   "outputs": [],
   "source": [
    "# setting up indexed data\n",
    "initial_tools_for_data = get_doc_tools_from_path(data_path)\n",
    "obj_index = ObjectIndex.from_objects(initial_tools_for_data, index_cls=VectorStoreIndex)\n",
    "obj_retriever = obj_index.as_retriever(similarity_top_k=3)"
   ]
  },
  {
   "cell_type": "code",
   "execution_count": 7,
   "metadata": {},
   "outputs": [],
   "source": [
    "# setup single agent\n",
    "agent_worker = FunctionCallingAgentWorker.from_tools(tool_retriever=obj_retriever, \n",
    "                                                     llm=llm, \n",
    "                                                     system_prompt=\"\"\"You are an agent designed to answer queries over a set of given papers. Please always use the tools provided to answer a question.Do not rely on prior knowledge.\"\"\", \n",
    "                                                     verbose=True) \n",
    "agent = AgentRunner(agent_worker)"
   ]
  },
  {
   "cell_type": "markdown",
   "metadata": {},
   "source": [
    "# Query"
   ]
  },
  {
   "cell_type": "code",
   "execution_count": 12,
   "metadata": {},
   "outputs": [
    {
     "name": "stdout",
     "output_type": "stream",
     "text": [
      "Added user message to memory: are vlms inherently unsafe?is it easy to make llms robust compared to vlms?\n",
      "=== LLM Response ===\n",
      "To answer your questions, I will use the vector search tools provided to me. Let's first address the safety of VLMS.\n",
      "\n",
      "Using the vector_tool_adversarials_robustness_vlms function:\n",
      "query: \"Are VLMS inherently unsafe?\"\n",
      "page_numbers: None\n",
      "\n",
      "Based on the search results, VLMS are not inherently unsafe, but they can be vulnerable to adversarial attacks. Researchers have proposed various defense mechanisms to improve their robustness.\n",
      "\n",
      "Now, let's compare the robustness of LLMS and VLMS.\n",
      "\n",
      "Using the vector_tool_poisoning_llms function:\n",
      "query: \"Is it easy to make LLMS robust compared to VLMS?\"\n",
      "page_numbers: None\n",
      "\n",
      "According to the search results, it is not accurate to say that making LLMS robust is easier than making VLMS robust. Both LLMS and VLMS have their unique challenges when it comes to improving robustness against adversarial attacks and data poisoning. Researchers are actively working on developing defense strategies for both types of models.\n",
      "To answer your questions, I will use the vector search tools provided to me. Let's first address the safety of VLMS.\n",
      "\n",
      "Using the vector_tool_adversarials_robustness_vlms function:\n",
      "query: \"Are VLMS inherently unsafe?\"\n",
      "page_numbers: None\n",
      "\n",
      "Based on the search results, VLMS are not inherently unsafe, but they can be vulnerable to adversarial attacks. Researchers have proposed various defense mechanisms to improve their robustness.\n",
      "\n",
      "Now, let's compare the robustness of LLMS and VLMS.\n",
      "\n",
      "Using the vector_tool_poisoning_llms function:\n",
      "query: \"Is it easy to make LLMS robust compared to VLMS?\"\n",
      "page_numbers: None\n",
      "\n",
      "According to the search results, it is not accurate to say that making LLMS robust is easier than making VLMS robust. Both LLMS and VLMS have their unique challenges when it comes to improving robustness against adversarial attacks and data poisoning. Researchers are actively working on developing defense strategies for both types of models.\n"
     ]
    }
   ],
   "source": [
    "response = agent.query(\"are vlms inherently unsafe?\"\n",
    "                       \"is it easy to make llms robust compared to vlms?\")\n",
    "# response = agent.chat(\"I mean visual large language models. how robust are they?\")\n",
    "print(str(response))"
   ]
  },
  {
   "cell_type": "code",
   "execution_count": 13,
   "metadata": {},
   "outputs": [
    {
     "name": "stdout",
     "output_type": "stream",
     "text": [
      "To answer your questions, I will use the vector search tools provided to me. Let's first address the safety of VLMS.\n",
      "\n",
      "Using the vector_tool_adversarials_robustness_vlms function:\n",
      "query: \"Are VLMS inherently unsafe?\"\n",
      "page_numbers: None\n",
      "\n",
      "Based on the search results, VLMS are not inherently unsafe, but they can be vulnerable to adversarial attacks. Researchers have proposed various defense mechanisms to improve their robustness.\n",
      "\n",
      "Now, let's compare the robustness of LLMS and VLMS.\n",
      "\n",
      "Using the vector_tool_poisoning_llms function:\n",
      "query: \"Is it easy to make LLMS robust compared to VLMS?\"\n",
      "page_numbers: None\n",
      "\n",
      "According to the search results, it is not accurate to say that making LLMS robust is easier than making VLMS robust. Both LLMS and VLMS have their unique challenges when it comes to improving robustness against adversarial attacks and data poisoning. Researchers are actively working on developing defense strategies for both types of models.\n"
     ]
    }
   ],
   "source": [
    "print(str(response))"
   ]
  }
 ],
 "metadata": {
  "kernelspec": {
   "display_name": "Python 3",
   "language": "python",
   "name": "python3"
  },
  "language_info": {
   "codemirror_mode": {
    "name": "ipython",
    "version": 3
   },
   "file_extension": ".py",
   "mimetype": "text/x-python",
   "name": "python",
   "nbconvert_exporter": "python",
   "pygments_lexer": "ipython3",
   "version": "3.10.14"
  }
 },
 "nbformat": 4,
 "nbformat_minor": 2
}
